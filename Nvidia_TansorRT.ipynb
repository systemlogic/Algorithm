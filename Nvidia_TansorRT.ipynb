{
  "nbformat": 4,
  "nbformat_minor": 0,
  "metadata": {
    "colab": {
      "provenance": [],
      "gpuType": "T4",
      "authorship_tag": "ABX9TyOiEbltQhtpKWHvuw8guDrs",
      "include_colab_link": true
    },
    "kernelspec": {
      "name": "python3",
      "display_name": "Python 3"
    },
    "language_info": {
      "name": "python"
    },
    "accelerator": "GPU"
  },
  "cells": [
    {
      "cell_type": "markdown",
      "metadata": {
        "id": "view-in-github",
        "colab_type": "text"
      },
      "source": [
        "<a href=\"https://colab.research.google.com/github/systemlogic/Algorithm/blob/master/Nvidia_TansorRT.ipynb\" target=\"_parent\"><img src=\"https://colab.research.google.com/assets/colab-badge.svg\" alt=\"Open In Colab\"/></a>"
      ]
    },
    {
      "cell_type": "code",
      "source": [
        "!pip install torch_tensorrt\n",
        "!wget -O /tmp/sparrow.jpg https://upload.wikimedia.org/wikipedia/commons/thumb/5/52/House_Sparrow%2C_England_-_May_09.jpg/800px-House_Sparrow%2C_England_-_May_09.jpg"
      ],
      "metadata": {
        "colab": {
          "base_uri": "https://localhost:8080/"
        },
        "id": "IcvUVM15Ymbe",
        "outputId": "7369068c-3fe6-4d0c-e4f8-33bb7abb26a9"
      },
      "execution_count": 13,
      "outputs": [
        {
          "output_type": "stream",
          "name": "stdout",
          "text": [
            "Requirement already satisfied: torch_tensorrt in /usr/local/lib/python3.12/dist-packages (2.8.0)\n",
            "Requirement already satisfied: packaging>=23 in /usr/local/lib/python3.12/dist-packages (from torch_tensorrt) (25.0)\n",
            "Requirement already satisfied: typing-extensions>=4.7.0 in /usr/local/lib/python3.12/dist-packages (from torch_tensorrt) (4.15.0)\n",
            "Requirement already satisfied: dllist in /usr/local/lib/python3.12/dist-packages (from torch_tensorrt) (2.0.0)\n",
            "Requirement already satisfied: torch<2.9.0,>=2.8.0 in /usr/local/lib/python3.12/dist-packages (from torch_tensorrt) (2.8.0+cu126)\n",
            "Requirement already satisfied: tensorrt<10.13.0,>=10.12.0 in /usr/local/lib/python3.12/dist-packages (from torch_tensorrt) (10.12.0.36)\n",
            "Requirement already satisfied: tensorrt-cu12-bindings<10.13.0,>=10.12.0 in /usr/local/lib/python3.12/dist-packages (from torch_tensorrt) (10.12.0.36)\n",
            "Requirement already satisfied: tensorrt-cu12-libs<10.13.0,>=10.12.0 in /usr/local/lib/python3.12/dist-packages (from torch_tensorrt) (10.12.0.36)\n",
            "Requirement already satisfied: numpy in /usr/local/lib/python3.12/dist-packages (from torch_tensorrt) (2.0.2)\n",
            "Requirement already satisfied: tensorrt-cu12==10.12.0.36 in /usr/local/lib/python3.12/dist-packages (from tensorrt<10.13.0,>=10.12.0->torch_tensorrt) (10.12.0.36)\n",
            "Requirement already satisfied: nvidia-cuda-runtime-cu12 in /usr/local/lib/python3.12/dist-packages (from tensorrt-cu12-libs<10.13.0,>=10.12.0->torch_tensorrt) (12.6.77)\n",
            "Requirement already satisfied: filelock in /usr/local/lib/python3.12/dist-packages (from torch<2.9.0,>=2.8.0->torch_tensorrt) (3.19.1)\n",
            "Requirement already satisfied: setuptools in /usr/local/lib/python3.12/dist-packages (from torch<2.9.0,>=2.8.0->torch_tensorrt) (75.2.0)\n",
            "Requirement already satisfied: sympy>=1.13.3 in /usr/local/lib/python3.12/dist-packages (from torch<2.9.0,>=2.8.0->torch_tensorrt) (1.13.3)\n",
            "Requirement already satisfied: networkx in /usr/local/lib/python3.12/dist-packages (from torch<2.9.0,>=2.8.0->torch_tensorrt) (3.5)\n",
            "Requirement already satisfied: jinja2 in /usr/local/lib/python3.12/dist-packages (from torch<2.9.0,>=2.8.0->torch_tensorrt) (3.1.6)\n",
            "Requirement already satisfied: fsspec in /usr/local/lib/python3.12/dist-packages (from torch<2.9.0,>=2.8.0->torch_tensorrt) (2025.3.0)\n",
            "Requirement already satisfied: nvidia-cuda-nvrtc-cu12==12.6.77 in /usr/local/lib/python3.12/dist-packages (from torch<2.9.0,>=2.8.0->torch_tensorrt) (12.6.77)\n",
            "Requirement already satisfied: nvidia-cuda-cupti-cu12==12.6.80 in /usr/local/lib/python3.12/dist-packages (from torch<2.9.0,>=2.8.0->torch_tensorrt) (12.6.80)\n",
            "Requirement already satisfied: nvidia-cudnn-cu12==9.10.2.21 in /usr/local/lib/python3.12/dist-packages (from torch<2.9.0,>=2.8.0->torch_tensorrt) (9.10.2.21)\n",
            "Requirement already satisfied: nvidia-cublas-cu12==12.6.4.1 in /usr/local/lib/python3.12/dist-packages (from torch<2.9.0,>=2.8.0->torch_tensorrt) (12.6.4.1)\n",
            "Requirement already satisfied: nvidia-cufft-cu12==11.3.0.4 in /usr/local/lib/python3.12/dist-packages (from torch<2.9.0,>=2.8.0->torch_tensorrt) (11.3.0.4)\n",
            "Requirement already satisfied: nvidia-curand-cu12==10.3.7.77 in /usr/local/lib/python3.12/dist-packages (from torch<2.9.0,>=2.8.0->torch_tensorrt) (10.3.7.77)\n",
            "Requirement already satisfied: nvidia-cusolver-cu12==11.7.1.2 in /usr/local/lib/python3.12/dist-packages (from torch<2.9.0,>=2.8.0->torch_tensorrt) (11.7.1.2)\n",
            "Requirement already satisfied: nvidia-cusparse-cu12==12.5.4.2 in /usr/local/lib/python3.12/dist-packages (from torch<2.9.0,>=2.8.0->torch_tensorrt) (12.5.4.2)\n",
            "Requirement already satisfied: nvidia-cusparselt-cu12==0.7.1 in /usr/local/lib/python3.12/dist-packages (from torch<2.9.0,>=2.8.0->torch_tensorrt) (0.7.1)\n",
            "Requirement already satisfied: nvidia-nccl-cu12==2.27.3 in /usr/local/lib/python3.12/dist-packages (from torch<2.9.0,>=2.8.0->torch_tensorrt) (2.27.3)\n",
            "Requirement already satisfied: nvidia-nvtx-cu12==12.6.77 in /usr/local/lib/python3.12/dist-packages (from torch<2.9.0,>=2.8.0->torch_tensorrt) (12.6.77)\n",
            "Requirement already satisfied: nvidia-nvjitlink-cu12==12.6.85 in /usr/local/lib/python3.12/dist-packages (from torch<2.9.0,>=2.8.0->torch_tensorrt) (12.6.85)\n",
            "Requirement already satisfied: nvidia-cufile-cu12==1.11.1.6 in /usr/local/lib/python3.12/dist-packages (from torch<2.9.0,>=2.8.0->torch_tensorrt) (1.11.1.6)\n",
            "Requirement already satisfied: triton==3.4.0 in /usr/local/lib/python3.12/dist-packages (from torch<2.9.0,>=2.8.0->torch_tensorrt) (3.4.0)\n",
            "Requirement already satisfied: mpmath<1.4,>=1.1.0 in /usr/local/lib/python3.12/dist-packages (from sympy>=1.13.3->torch<2.9.0,>=2.8.0->torch_tensorrt) (1.3.0)\n",
            "Requirement already satisfied: MarkupSafe>=2.0 in /usr/local/lib/python3.12/dist-packages (from jinja2->torch<2.9.0,>=2.8.0->torch_tensorrt) (3.0.2)\n",
            "--2025-09-02 10:01:30--  https://upload.wikimedia.org/wikipedia/commons/thumb/5/52/House_Sparrow%2C_England_-_May_09.jpg/800px-House_Sparrow%2C_England_-_May_09.jpg\n",
            "Resolving upload.wikimedia.org (upload.wikimedia.org)... 185.15.59.240, 2a02:ec80:300:ed1a::2:b\n",
            "Connecting to upload.wikimedia.org (upload.wikimedia.org)|185.15.59.240|:443... connected.\n",
            "HTTP request sent, awaiting response... 200 OK\n",
            "Length: 112334 (110K) [image/jpeg]\n",
            "Saving to: ‘/tmp/sparrow.jpg’\n",
            "\n",
            "/tmp/sparrow.jpg    100%[===================>] 109.70K  --.-KB/s    in 0.01s   \n",
            "\n",
            "2025-09-02 10:01:30 (8.59 MB/s) - ‘/tmp/sparrow.jpg’ saved [112334/112334]\n",
            "\n"
          ]
        }
      ]
    },
    {
      "cell_type": "code",
      "source": [
        "import torch\n",
        "from torchvision import models, transforms\n",
        "from PIL import Image\n",
        "import pandas as pd\n",
        "import numpy as np\n",
        "import time\n",
        "import torch.backends.cudnn as cudnn\n",
        "\n",
        "img = Image.open(\"/tmp/sparrow.jpg\")\n",
        "\n",
        "topk = 3\n",
        "\n",
        "model = models.resnet50(pretrained = True).to(\"cuda\")\n",
        "# img = Image.open(handler)\n",
        "transform = transforms.Compose([\n",
        "    transforms.Resize(256),\n",
        "    transforms.CenterCrop(224),\n",
        "    transforms.ToTensor(),\n",
        "    transforms.Normalize((0.485, 0.456, 0.406), (0.229, 0.224, 0.225))\n",
        "])\n",
        "img = transform(img)\n",
        "img_batch = torch.unsqueeze(img, 0).to(\"cuda\")\n",
        "# Uncomment below two lines together to transfer the model as well as image both to mps.\n",
        "# img_batch = img_batch.to(torch.device(\"mps\"))\n",
        "# model = model.to(torch.device(\"mps\"))\n",
        "\n",
        "model.eval()\n",
        "with torch.no_grad():\n",
        "    outputs = model(img_batch)\n",
        "probs = torch.nn.functional.softmax(outputs[0], dim=0)\n",
        "\n",
        "print(\"Input tensor shape:\", img_batch.shape)\n",
        "\n",
        "catagories = pd.read_csv(\"https://raw.githubusercontent.com/pytorch/hub/master/imagenet_classes.txt\", header = None)\n",
        "prob, class_number = torch.topk(probs, topk)\n",
        "for i in range(topk):\n",
        "    probability = prob[i].item()\n",
        "    class_name = catagories[0][int(class_number[i])]\n",
        "    print(\"%{} {}\".format(int(probability*100), class_name))\n",
        "\n",
        "\n",
        "\n",
        "cudnn.benchmark = True\n",
        "\n",
        "def benchmark(model, device=\"cuda\", input_shape=(32, 3, 224, 224), dtype='fp32', nwarmup=50, nruns=100):\n",
        "    input_data = torch.randn(input_shape)\n",
        "    input_data = input_data.to(device)\n",
        "\n",
        "    print(\"Warm up ...\")\n",
        "    with torch.no_grad():\n",
        "        for _ in range(nwarmup):\n",
        "            features = model(input_data)\n",
        "    torch.cuda.synchronize()\n",
        "    print(\"Start timing ...\")\n",
        "    timings = []\n",
        "    with torch.no_grad():\n",
        "        for i in range(1, nruns+1):\n",
        "            start_time = time.time()\n",
        "            features = model(input_data)\n",
        "            torch.cuda.synchronize()\n",
        "            end_time = time.time()\n",
        "            timings.append(end_time - start_time)\n",
        "            if i%10==0:\n",
        "                print('Iteration %d/%d, ave batch time %.2f ms'%(i, nruns, np.mean(timings)*1000))\n",
        "\n",
        "    print(\"Input shape:\", input_data.size())\n",
        "    print(\"Output features size:\", features.size())\n",
        "    print('Average batch time: %.2f ms'%(np.mean(timings)*1000))\n",
        "\n",
        "model = model\n",
        "benchmark(model)"
      ],
      "metadata": {
        "colab": {
          "base_uri": "https://localhost:8080/"
        },
        "id": "Jo39X4yjfDH7",
        "outputId": "b8cc73f9-6ccb-47bd-c743-4d2d5fff2ac9"
      },
      "execution_count": 16,
      "outputs": [
        {
          "output_type": "stream",
          "name": "stderr",
          "text": [
            "WARNING:py.warnings:/usr/local/lib/python3.12/dist-packages/torchvision/models/_utils.py:208: UserWarning: The parameter 'pretrained' is deprecated since 0.13 and may be removed in the future, please use 'weights' instead.\n",
            "  warnings.warn(\n",
            "\n",
            "WARNING:py.warnings:/usr/local/lib/python3.12/dist-packages/torchvision/models/_utils.py:223: UserWarning: Arguments other than a weight enum or `None` for 'weights' are deprecated since 0.13 and may be removed in the future. The current behavior is equivalent to passing `weights=ResNet50_Weights.IMAGENET1K_V1`. You can also use `weights=ResNet50_Weights.DEFAULT` to get the most up-to-date weights.\n",
            "  warnings.warn(msg)\n",
            "\n"
          ]
        },
        {
          "output_type": "stream",
          "name": "stdout",
          "text": [
            "Input tensor shape: torch.Size([1, 3, 224, 224])\n",
            "%90 house finch\n",
            "%4 junco\n",
            "%2 brambling\n",
            "Warm up ...\n",
            "Start timing ...\n",
            "Iteration 10/100, ave batch time 88.90 ms\n",
            "Iteration 20/100, ave batch time 88.98 ms\n",
            "Iteration 30/100, ave batch time 88.99 ms\n",
            "Iteration 40/100, ave batch time 89.07 ms\n",
            "Iteration 50/100, ave batch time 89.16 ms\n",
            "Iteration 60/100, ave batch time 89.21 ms\n",
            "Iteration 70/100, ave batch time 89.30 ms\n",
            "Iteration 80/100, ave batch time 89.36 ms\n",
            "Iteration 90/100, ave batch time 89.44 ms\n",
            "Iteration 100/100, ave batch time 89.51 ms\n",
            "Input shape: torch.Size([32, 3, 224, 224])\n",
            "Output features size: torch.Size([32, 1000])\n",
            "Average batch time: 89.51 ms\n"
          ]
        }
      ]
    },
    {
      "cell_type": "code",
      "source": [
        "traced_model = torch.jit.trace(model, [torch.randn((1, 3, 224, 224)).to(\"cuda\")])\n",
        "\n",
        "import torch_tensorrt\n",
        "import pandas as pd\n",
        "\n",
        "catagories = pd.read_csv(\"https://raw.githubusercontent.com/pytorch/hub/master/imagenet_classes.txt\", header = None)\n",
        "\n",
        "\n",
        "\n",
        "print(\"Input tensor shape:\", img_batch.shape)\n",
        "\n",
        "trt_model = torch_tensorrt.compile(\n",
        "    traced_model,\n",
        "    inputs = [torch_tensorrt.Input((1, 3, 224, 224), dtype=torch.float32)],\n",
        "    enabled_precisions = {torch.float32}\n",
        ")\n",
        "\n",
        "\n",
        "trt_model.eval()\n",
        "with torch.no_grad():\n",
        "    outputs = trt_model(img_batch)\n",
        "prob = torch.nn.functional.softmax(outputs[0], dim=0)\n",
        "\n",
        "probs, classes = torch.topk(prob, topk)\n",
        "for i in range(topk):\n",
        "    probability = probs[i].item()\n",
        "    class_label = catagories[0][int(classes[i])]\n",
        "    print(\"%{} {}\".format(int(probability*100), class_label))\n"
      ],
      "metadata": {
        "colab": {
          "base_uri": "https://localhost:8080/"
        },
        "id": "r7SZb7HoYKGV",
        "outputId": "aff4461e-b0ad-487f-c448-1a269c04c8f3"
      },
      "execution_count": 19,
      "outputs": [
        {
          "output_type": "stream",
          "name": "stderr",
          "text": [
            "WARNING:torch_tensorrt._compile:Input is a torchscript module but the ir was not specified (default=dynamo), please set ir=torchscript to suppress the warning.\n"
          ]
        },
        {
          "output_type": "stream",
          "name": "stdout",
          "text": [
            "Input tensor shape: torch.Size([1, 3, 224, 224])\n",
            "%90 house finch\n",
            "%4 junco\n",
            "%2 brambling\n"
          ]
        }
      ]
    }
  ]
}